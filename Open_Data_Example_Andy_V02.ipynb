{
 "cells": [
  {
   "cell_type": "markdown",
   "metadata": {},
   "source": [
    "# Visualize travel time to cities and ports in the year 2015 maps"
   ]
  },
  {
   "cell_type": "markdown",
   "metadata": {},
   "source": [
    "This notebook shows how to read and visualize travel time to cities and ports maps. These maps represent a unique global representation of physical access to essential services offered by cities and ports. \n",
    "\n",
    "Each accessibility layer is a 30 arc-second resolution raster in WGS84 (coordinate reference system EPSG:4326) projection with a bounding box of 85°N, 180°E, 60°S and 180°W. The format is single band GeoTIFF, 16 bit unsigned integer with 65,535 as the nodata value. The pixel values represent the time in minutes from that pixel to the nearest settlement. Travel times are reported for all pixels classified as land or inland water areas.\n",
    "\n",
    "The dataset is available at the figshare repository https://doi.org/10.6084/m9.figshare.7638134.v3\n",
    "The dataset and the validation are fully described in a Nature Scientific Data Descriptor https://www.nature.com/articles/s41597-019-0265-5\n"
   ]
  },
  {
   "cell_type": "markdown",
   "metadata": {},
   "source": [
    "## 1. Installing the required packages"
   ]
  },
  {
   "cell_type": "code",
   "execution_count": null,
   "metadata": {},
   "outputs": [],
   "source": [
    "!pip install matplotlib\n",
    "!pip install pillow\n",
    "!pip install numpy\n",
    "!pip install opencv-python\n",
    "\n"
   ]
  },
  {
   "cell_type": "markdown",
   "metadata": {},
   "source": [
    "## 2. Import required libraries"
   ]
  },
  {
   "cell_type": "code",
   "execution_count": null,
   "metadata": {},
   "outputs": [],
   "source": [
    "import requests\n",
    "import os\n",
    "import matplotlib.pyplot as plt\n",
    "from PIL import Image\n",
    "import cv2\n",
    "import numpy as np"
   ]
  },
  {
   "cell_type": "markdown",
   "metadata": {},
   "source": [
    "## 3. Set dataset id and base URL"
   ]
  },
  {
   "cell_type": "code",
   "execution_count": null,
   "metadata": {},
   "outputs": [],
   "source": [
    "id = '7638134'\n",
    "api_url = \"https://api.figshare.com/v2/\""
   ]
  },
  {
   "cell_type": "markdown",
   "metadata": {},
   "source": [
    "## 4. Retrieve Dataset"
   ]
  },
  {
   "cell_type": "code",
   "execution_count": null,
   "metadata": {},
   "outputs": [],
   "source": [
    "# Define functions that read and download files\n",
    "def read_public_article(id, api_url):\n",
    "    request_url = f\"{api_url}articles/{id}\"\n",
    "    print(\"Sending request to:\", api_url)\n",
    "    response = requests.get(request_url)\n",
    "    status_code = response.status_code\n",
    "    print(f\"Response status: {status_code}\")\n",
    "\n",
    "    if status_code == 200:\n",
    "        jsonResponse = response.json()\n",
    "        return jsonResponse\n",
    "    else:\n",
    "        print(\"Error\")\n",
    "        return None\n",
    "        # for key, value in jsonResponse.items():\n",
    "        #     print(key, \":\", value)\n",
    "\n",
    "def download_file(folder, file_name, download_url):\n",
    "    print(\"Downloading \", file_name)\n",
    "    response = requests.get(download_url)\n",
    "    status_code = response.status_code\n",
    "    if (status_code == 200):\n",
    "        print(f\"File {file_name} was retrieved successfully!\")\n",
    "        open(os.path.join(folder, file_name) , 'wb').write(response.content)\n",
    "        print(f\"File address: {os.path.join(folder, file_name)}\")\n",
    "    else:\n",
    "        print(f\"Could not donwload {file_name}.\")\n",
    "    pass\n",
    "\n",
    "def download_article_files(folder, article_json):\n",
    "       \n",
    "    if not os.path.exists(folder):\n",
    "        os.makedirs(folder)\n",
    "        print(f\"{folder} directory was created!\")\n",
    "\n",
    "    for item in article_json['files']:       \n",
    "        \n",
    "        # file_title = file_name_dict[item['name']]\n",
    "        # print(n)\n",
    "        if item['name'].endswith('.tif'):\n",
    "            download_file(folder, item['name'], item['download_url'])\n",
    "        \n",
    "        \n",
    "    pass\n",
    "\n",
    "file_name_dict = {\n",
    "        'travel_time_to_cities_1.tif': 'Travel_Time_to_Cities_5000000_50000000',\n",
    "        'travel_time_to_cities_2.tif': 'Travel_Time_to_Cities_1000000_5000000',\n",
    "        'travel_time_to_cities_3.tif': 'ravel_Time_to_Cities_500000_1000000',\n",
    "        'travel_time_to_cities_4.tif': 'Travel_Time_to_Cities_200000_500000',\n",
    "        'travel_time_to_cities_5.tif': 'Travel_Time_to_Cities_100000_200000',    \n",
    "        'travel_time_to_cities_6.tif': 'Travel_Time_to_Cities_50000_100000',\n",
    "        'travel_time_to_cities_7.tif': 'Travel_Time_to_Cities_20000_50000',\n",
    "        'travel_time_to_cities_8.tif': 'Travel_Time_to_Cities_10000_20000',\n",
    "        'travel_time_to_cities_9.tif': 'Travel_Time_to_Cities_5000_10000',\n",
    "        'travel_time_to_cities_10.tif': 'Travel_Time_to_Cities_20000_110000000',\n",
    "        'travel_time_to_cities_11.tif': 'Travel_Time_to_Cities_50000_50000000',\n",
    "        'travel_time_to_cities_12.tif': 'Travel_Time_to_Cities_5000_110000000',\n",
    "        'travel_time_to_ports_1.tif': 'Travel_Time_to_ports_160',\n",
    "        'travel_time_to_ports_2.tif': 'Travel_Time_to_ports_361',\n",
    "        'travel_time_to_ports_3.tif': 'Travel_Time_to_ports_990',\n",
    "        'travel_time_to_ports_4.tif': 'Travel_Time_to_ports_2153',\n",
    "        'travel_time_to_ports_5.tif': 'Travel_Time_to_ports_3778'}\n",
    "        \n",
    "article_json = read_public_article(id=id, api_url=api_url)\n",
    "download_article_files('data', article_json=article_json)"
   ]
  },
  {
   "cell_type": "markdown",
   "metadata": {},
   "source": [
    "## 5. Show the travel time maps"
   ]
  },
  {
   "cell_type": "code",
   "execution_count": null,
   "metadata": {},
   "outputs": [],
   "source": [
    "Image.MAX_IMAGE_PIXELS = None\n",
    "\n",
    "def show_maps(folder, file_name_dict):\n",
    "    n = 0\n",
    "    file_name = list(file_name_dict.keys())\n",
    "    for item in file_name_dict:\n",
    "        n = n+1\n",
    "        plt.figure(n)\n",
    "        plt.imshow(Image.open(os.path.join(folder,file_name[n-1])))\n",
    "        plt.axis('off')\n",
    "        plt.title(file_name_dict[item])\n",
    "    pass\n",
    "show_maps('data', file_name_dict = file_name_dict)\n"
   ]
  },
  {
   "cell_type": "markdown",
   "metadata": {},
   "source": [
    "## 6. Combination of different maps"
   ]
  },
  {
   "cell_type": "markdown",
   "metadata": {},
   "source": [
    "The nine layers represent travel times to human settlements of different population ranges.\n",
    "In the following code, change the minimum and maximum population you would like to create a new travel time map."
   ]
  },
  {
   "cell_type": "code",
   "execution_count": null,
   "metadata": {},
   "outputs": [],
   "source": [
    "Image.MAX_IMAGE_PIXELS = None\n",
    "maps_dict = {\n",
    "        'travel_time_to_cities_1.tif': 'Travel_Time_to_Cities_5000000_50000000',\n",
    "        'travel_time_to_cities_2.tif': 'Travel_Time_to_Cities_1000000_5000000',\n",
    "        'travel_time_to_cities_3.tif': 'ravel_Time_to_Cities_500000_1000000',\n",
    "        'travel_time_to_cities_4.tif': 'Travel_Time_to_Cities_200000_500000',\n",
    "        'travel_time_to_cities_5.tif': 'Travel_Time_to_Cities_100000_200000',    \n",
    "        'travel_time_to_cities_6.tif': 'Travel_Time_to_Cities_50000_100000',\n",
    "        'travel_time_to_cities_7.tif': 'Travel_Time_to_Cities_20000_50000',\n",
    "        'travel_time_to_cities_8.tif': 'Travel_Time_to_Cities_10000_20000',\n",
    "        'travel_time_to_cities_9.tif': 'Travel_Time_to_Cities_5000_10000',\n",
    "        }\n",
    "# input minimum and maximum population\n",
    "Min_Population = input(\"choose the minimum population\")\n",
    "Max_Population = input(\"choose the maximum population\")\n",
    "\n",
    "# get the minimum of the travel time between the selected maps\n",
    "\n",
    "def find_min_travel_time_map(Min_Population, Max_Population, maps_dict):\n",
    "\n",
    "    # select relevant maps\n",
    "    new_maps_dict ={}\n",
    "    for item in maps_dict:\n",
    "        x = maps_dict[item].split('_')\n",
    "        if int(Min_Population) <= int(x[4]) < int(Max_Population):\n",
    "            file_name = list(maps_dict.keys())[list(maps_dict.values()).index(maps_dict[item])]\n",
    "            new_maps_dict[file_name] = maps_dict[item]\n",
    "            \n",
    "    maps_name = list(new_maps_dict.keys())\n",
    "    \n",
    "    # get the geoinformation of the maps\n",
    "    def get_geoinfo(folder, file_name):\n",
    "        sourceds = Image.open(os.path.join(folder,file_name))\n",
    "        width, height = sourceds.size\n",
    "        return width, height\n",
    "\n",
    "    \n",
    "    width, height = get_geoinfo('data', file_name = maps_name[0])\n",
    "    \n",
    "    # read relevant maps and creat a list of them\n",
    "    maps_list = np.zeros((height,width,3,len(maps_name)), np.uint16)\n",
    "    for i in range(len(maps_name)):\n",
    "        maps_list[:,:,:, i] = cv2.imread(os.path.join('data',maps_name[i]))\n",
    "    new_travel_time_map = maps_list.min(axis=3)\n",
    "    return new_travel_time_map\n",
    "\n",
    "new_travel_time_map = find_min_travel_time_map (Min_Population, Max_Population, maps_dict)"
   ]
  },
  {
   "cell_type": "markdown",
   "metadata": {},
   "source": [
    "### 6.1 show the new travel time map"
   ]
  },
  {
   "cell_type": "code",
   "execution_count": null,
   "metadata": {},
   "outputs": [],
   "source": [
    "plt.figure(1)\n",
    "plt.imshow(new_travel_time_map)\n",
    "plt.title('Travel_time_to_cities_' + Min_Population + '_' + Max_Population)"
   ]
  },
  {
   "cell_type": "markdown",
   "metadata": {},
   "source": [
    "## 7. Create a subset of map"
   ]
  },
  {
   "cell_type": "code",
   "execution_count": null,
   "metadata": {},
   "outputs": [],
   "source": [
    "#from osgeo import gdal\n",
    "\n",
    "#upper_left_x = input(\"input the upper left for X\")\n",
    "#upper_left_y = input(\"input the upper left for Y\")\n",
    "#lower_right_x = input(\"input the lower right for X\")\n",
    "#lower_right_y = input(\"input the lower right for Y\")\n",
    "#window = (upper_left_x,upper_left_y,lower_right_x,lower_right_y)\n",
    "\n",
    "#gdal.Translate('output_crop_map.tif', 'map.tif', projWin = window)"
   ]
  }
 ],
 "metadata": {
  "interpreter": {
   "hash": "c2d7bee962c426c3c6750f92ceede5e5b22dc44709892f40c3ef51ae5829ae34"
  },
  "kernelspec": {
   "display_name": "Python 3.9.12 ('MyEnvironment')",
   "language": "python",
   "name": "python3"
  },
  "language_info": {
   "codemirror_mode": {
    "name": "ipython",
    "version": 3
   },
   "file_extension": ".py",
   "mimetype": "text/x-python",
   "name": "python",
   "nbconvert_exporter": "python",
   "pygments_lexer": "ipython3",
   "version": "3.9.12"
  },
  "orig_nbformat": 4
 },
 "nbformat": 4,
 "nbformat_minor": 2
}
