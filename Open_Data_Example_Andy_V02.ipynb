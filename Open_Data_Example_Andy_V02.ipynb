{
 "cells": [
  {
   "cell_type": "markdown",
   "metadata": {},
   "source": [
    "# Visualize travel time to cities and ports in the year 2015 maps"
   ]
  },
  {
   "cell_type": "markdown",
   "metadata": {},
   "source": [
    "This notebook shows how to read and visualize travel time to cities and ports maps. These maps represent a unique global representation of physical access to essential services offered by cities and ports. \n",
    "\n",
    "Each accessibility layer is a 30 arc-second resolution raster in WGS84 (coordinate reference system EPSG:4326) projection with a bounding box of 85°N, 180°E, 60°S and 180°W. The format is single band GeoTIFF, 16 bit unsigned integer with 65,535 as the nodata value. The pixel values represent the time in minutes from that pixel to the nearest settlement. Travel times are reported for all pixels classified as land or inland water areas.\n",
    "\n",
    "The dataset is available at the figshare repository https://doi.org/10.6084/m9.figshare.7638134.v3\n",
    "The dataset and the validation are fully described in a Nature Scientific Data Descriptor https://www.nature.com/articles/s41597-019-0265-5\n"
   ]
  },
  {
   "cell_type": "markdown",
   "metadata": {},
   "source": [
    "## 1. Installing the required packages"
   ]
  },
  {
   "cell_type": "markdown",
   "metadata": {},
   "source": [
    "Microsoft Visual C++ 14.0 or greater is required. Get it with \"Microsoft C++ Build Tools\": https://visualstudio.microsoft.com/visual-cpp-build-tools/"
   ]
  },
  {
   "cell_type": "code",
   "execution_count": null,
   "metadata": {},
   "outputs": [],
   "source": [
    "!pip install matplotlib\n",
    "!pip install pillow\n",
    "!pip install numpy\n",
    "!pip install opencv-python-headless\n",
    "!conda create --name venv --yes\n",
    "!conda update -n base conda --yes\n",
    "!conda install -c conda-forge gdal --yes\n",
    "!conda install -c anaconda ipykernel --yes\n",
    "!python -m ipykernel install --user --name=venv \n",
    "#!pip install gdal"
   ]
  },
  {
   "cell_type": "markdown",
   "metadata": {},
   "source": [
    "## 2. Import required libraries"
   ]
  },
  {
   "cell_type": "code",
   "execution_count": null,
   "metadata": {},
   "outputs": [],
   "source": [
    "import requests\n",
    "import os\n",
    "import matplotlib.pyplot as plt\n",
    "from PIL import Image\n",
    "import cv2\n",
    "import numpy as np\n",
    "from osgeo import gdal"
   ]
  },
  {
   "cell_type": "markdown",
   "metadata": {},
   "source": [
    "## 3. Set dataset id and base URL"
   ]
  },
  {
   "cell_type": "code",
   "execution_count": null,
   "metadata": {},
   "outputs": [],
   "source": [
    "id = '7638134'\n",
    "api_url = \"https://api.figshare.com/v2/\""
   ]
  },
  {
   "cell_type": "markdown",
   "metadata": {},
   "source": [
    "## 4. Retrieve Dataset"
   ]
  },
  {
   "cell_type": "code",
   "execution_count": null,
   "metadata": {},
   "outputs": [],
   "source": [
    "# Define functions that read and download files\n",
    "def read_public_article(id, api_url):\n",
    "    request_url = f\"{api_url}articles/{id}\"\n",
    "    print(\"Sending request to:\", api_url)\n",
    "    response = requests.get(request_url)\n",
    "    status_code = response.status_code\n",
    "    print(f\"Response status: {status_code}\")\n",
    "\n",
    "    if status_code == 200:\n",
    "        jsonResponse = response.json()\n",
    "        return jsonResponse\n",
    "    else:\n",
    "        print(\"Error\")\n",
    "        return None\n",
    "        # for key, value in jsonResponse.items():\n",
    "        #     print(key, \":\", value)\n",
    "\n",
    "def download_file(folder, file_name, download_url):\n",
    "    print(\"Downloading \", file_name)\n",
    "    response = requests.get(download_url)\n",
    "    status_code = response.status_code\n",
    "    if (status_code == 200):\n",
    "        print(f\"File {file_name} was retrieved successfully!\")\n",
    "        open(os.path.join(folder, file_name) , 'wb').write(response.content)\n",
    "        print(f\"File address: {os.path.join(folder, file_name)}\")\n",
    "    else:\n",
    "        print(f\"Could not donwload {file_name}.\")\n",
    "    pass\n",
    "\n",
    "def download_article_files(folder, article_json):\n",
    "       \n",
    "    if not os.path.exists(folder):\n",
    "        os.makedirs(folder)\n",
    "        print(f\"{folder} directory was created!\")\n",
    "\n",
    "    for item in article_json['files']:       \n",
    "        \n",
    "        # file_title = file_name_dict[item['name']]\n",
    "        # print(n)\n",
    "        if item['name'].endswith('.tif'):\n",
    "            download_file(folder, item['name'], item['download_url'])\n",
    "        \n",
    "        \n",
    "    pass\n",
    "       \n",
    "article_json = read_public_article(id=id, api_url=api_url)\n",
    "# All the downloaded maps are saved next to this notebook in the folder 'data'. you can change the path for saving the maps in any location you would like.\n",
    "download_article_files('data', article_json=article_json)"
   ]
  },
  {
   "cell_type": "markdown",
   "metadata": {},
   "source": [
    "## 5. Show the travel time maps"
   ]
  },
  {
   "cell_type": "markdown",
   "metadata": {},
   "source": [
    "In this section one of the travel time maps is visualized. if you want to choose any other travel time map to visualize, select its name from the following list. "
   ]
  },
  {
   "cell_type": "code",
   "execution_count": null,
   "metadata": {},
   "outputs": [],
   "source": [
    "Image.MAX_IMAGE_PIXELS = None\n",
    "# list of datasets files with the minimum and maximum population. \n",
    "# file_name_dict is a dictionary in which the keys are the maps name and the values are the file name in the published dataset (check the README.txt file)\n",
    "file_name_dict = {\n",
    "        'Travel_time_to_cities_5000000_50000000': 'travel_time_to_cities_1.tif',\n",
    "        'Travel_time_to_cities_1000000_5000000': 'travel_time_to_cities_2.tif',\n",
    "        'Travel_time_to_cities_500000_1000000': 'travel_time_to_cities_3.tif',\n",
    "        'Travel_time_to_cities_200000_500000': 'travel_time_to_cities_4.tif',\n",
    "        'Travel_time_to_cities_100000_200000': 'travel_time_to_cities_5.tif',\n",
    "        'Travel_time_to_cities_50000_100000': 'travel_time_to_cities_6.tif',    \n",
    "        'Travel_time_to_cities_20000_50000': 'travel_time_to_cities_7.tif',\n",
    "        'Travel_time_to_cities_10000_20000': 'travel_time_to_cities_8.tif',\n",
    "        'Travel_time_to_cities_5000_10000': 'travel_time_to_cities_9.tif',\n",
    "        'Travel_time_to_cities_20000_110000000': 'travel_time_to_cities_10.tif',\n",
    "        'Travel_time_to_cities_50000_50000000': 'travel_time_to_cities_11.tif',\n",
    "        'Travel_time_to_cities_5000_110000000': 'travel_time_to_cities_12.tif',\n",
    "        'Travel_time_to_ports_160': 'travel_time_to_ports_1.tif',\n",
    "        'Travel_time_to_ports_361': 'travel_time_to_ports_2.tif',\n",
    "        'Travel_time_to_ports_990': 'travel_time_to_ports_3.tif',\n",
    "        'Travel_time_to_ports_2153': 'travel_time_to_ports_4.tif',\n",
    "        'Travel_time_to_ports_3778': 'travel_time_to_ports_5.tif',\n",
    "        }\n",
    "# define function to visualize a map\n",
    "def show_map(folder, file_name):\n",
    "    plt.figure(1)\n",
    "    plt.imshow(Image.open(os.path.join(folder,file_name_dict[file_name])))\n",
    "    plt.axis('off')\n",
    "    plt.title(file_name)\n",
    "pass\n",
    "# change the name of travel time map to what you desire (select from the above file list)\n",
    "show_map('data', file_name = 'Travel_time_to_cities_5000_10000')\n"
   ]
  },
  {
   "cell_type": "markdown",
   "metadata": {},
   "source": [
    "## 6. Combination of different travle time maps"
   ]
  },
  {
   "cell_type": "markdown",
   "metadata": {},
   "source": [
    "Nine layers represent travel times to human settlements of different population ranges. Two or more layers can be combined into one layer by recording the minimum pixel value across the layers.For example, a map of travel time to the nearest settlement of 5,000 to 50,000 people could be generated by taking the minimum of the three layers that represent the travel time to settlements with populations between 5,000 and 10,000, 10,000 and 20,000 and, 20,000 and 50,000 people.\n",
    "In this section, change the minimum and maximum population you would like to create a new travel time map."
   ]
  },
  {
   "cell_type": "code",
   "execution_count": null,
   "metadata": {},
   "outputs": [],
   "source": [
    "Image.MAX_IMAGE_PIXELS = None\n",
    "maps_dict = {\n",
    "        'Travel_time_to_cities_5000000_50000000': 'travel_time_to_cities_1.tif',\n",
    "        'Travel_time_to_cities_1000000_5000000': 'travel_time_to_cities_2.tif',\n",
    "        'Travel_time_to_cities_500000_1000000': 'travel_time_to_cities_3.tif',\n",
    "        'Travel_time_to_cities_200000_500000': 'travel_time_to_cities_4.tif',\n",
    "        'Travel_time_to_cities_100000_200000': 'travel_time_to_cities_5.tif',\n",
    "        'Travel_time_to_cities_50000_100000': 'travel_time_to_cities_6.tif',    \n",
    "        'Travel_time_to_cities_20000_50000': 'travel_time_to_cities_7.tif',\n",
    "        'Travel_time_to_cities_10000_20000': 'travel_time_to_cities_8.tif',\n",
    "        'Travel_time_to_cities_5000_10000': 'travel_time_to_cities_9.tif',\n",
    "        }\n",
    "# input minimum and maximum population\n",
    "Min_Population = '5000'\n",
    "Max_Population = '50000'\n",
    "\n",
    "# define function to get the geoinformation of the maps\n",
    "def get_geoinfo(folder, file_name):\n",
    "    sourceds = Image.open(os.path.join(folder,file_name))\n",
    "    dataset1 = gdal.Open(os.path.join(folder,file_name))\n",
    "    projection = dataset1.GetProjection()\n",
    "    geotransform = dataset1.GetGeoTransform()\n",
    "    width, height = sourceds.size\n",
    "    return width, height, projection, geotransform\n",
    "\n",
    "# define function to get the minimum of the travel time between the selected maps\n",
    "def find_min_travel_time_map(Min_Population, Max_Population, maps_dict):\n",
    "\n",
    "    # select relevant maps\n",
    "    new_maps_dict ={}\n",
    "    for item in list(maps_dict.keys()):\n",
    "        x = item.split('_')\n",
    "        if int(Min_Population) <= int(x[4]) < int(Max_Population):\n",
    "            new_maps_dict[item] = maps_dict[item]             \n",
    "    maps_name = list(new_maps_dict.values())\n",
    "\n",
    "    # get the geoinformation of a map\n",
    "    width, height, projection, geotransform = get_geoinfo('data', file_name = maps_name[0])\n",
    "    \n",
    "    # read relevant maps and creat a list of them\n",
    "    maps_list = np.zeros((height,width,1,len(maps_name)), np.uint16)\n",
    "    for i in range(len(maps_name)):\n",
    "      img = gdal.Open(os.path.join('data',maps_name[i]))\n",
    "      band = img.GetRasterBand(1)\n",
    "      maps_list[:,:,0, i] = band.ReadAsArray()\n",
    "      \n",
    "    # define a path to save the new travel time map in folder 'data'\n",
    "    new_travel_time_map_path = r'data\\new_travel_time_map.tif'\n",
    "\n",
    "    # create the new travle time map\n",
    "    new_travel_time_map = maps_list.min(axis=3)\n",
    "    cv2.imwrite(new_travel_time_map_path ,new_travel_time_map)\n",
    "\n",
    "    # set the projection and geotransform \n",
    "    dataset2 = gdal.Open(new_travel_time_map_path, gdal.GA_Update)\n",
    "    dataset2.SetGeoTransform( geotransform )\n",
    "    dataset2.SetProjection( projection )\n",
    "    return new_travel_time_map, new_maps_dict, maps_list\n",
    "\n",
    "new_travel_time_map, new_maps_dict, maps_list = find_min_travel_time_map (Min_Population, Max_Population, maps_dict)\n",
    "print('layers that represent the travel time to settlements with populations between ' + Min_Population + ' and ' + Max_Population +  ' are: ')\n",
    "print(new_maps_dict)\n"
   ]
  },
  {
   "cell_type": "code",
   "execution_count": null,
   "metadata": {},
   "outputs": [],
   "source": [
    "print(maps_list[1000,16000,:,0])\n",
    "print(maps_list[1000,16000,:,1])\n",
    "print(maps_list[1000,16000,:,2])\n",
    "print(new_travel_time_map[1000,16000])"
   ]
  },
  {
   "cell_type": "markdown",
   "metadata": {},
   "source": [
    "### 6.1 show the new travel time map"
   ]
  },
  {
   "cell_type": "code",
   "execution_count": null,
   "metadata": {},
   "outputs": [],
   "source": [
    "plt.figure(1)\n",
    "plt.imshow(new_travel_time_map)\n",
    "plt.title('Travel_time_to_cities_' + Min_Population + '_' + Max_Population)"
   ]
  },
  {
   "cell_type": "markdown",
   "metadata": {},
   "source": [
    "## 7. Create a subset of map"
   ]
  },
  {
   "cell_type": "markdown",
   "metadata": {},
   "source": [
    "Each travel map is a 30 arc-second resolution raster in WGS84 (coordinate reference system EPSG:4326) projection with a bounding box of 85°N, 180°E, 60°S and 180°W. In this section you can choose a map and clip it using a bounding box. "
   ]
  },
  {
   "cell_type": "code",
   "execution_count": null,
   "metadata": {},
   "outputs": [],
   "source": [
    "\n",
    "Image.MAX_IMAGE_PIXELS = None\n",
    "\n",
    "# change the name of travel time map to what you desire (select from the above file list or the one that is created in section 6)\n",
    "file_name = gdal.OpenEx('data/Travel_time_to_cities_1.tif')\n",
    "# change the following coordinates to any bounding box you want (select inside the bounding box of 85°N, 180°E, 60°S and 180°W) \n",
    "upper_left_x = 0\n",
    "upper_left_y = 60\n",
    "lower_right_x = 25\n",
    "lower_right_y = 35\n",
    "window = (upper_left_x,upper_left_y,lower_right_x,lower_right_y)\n",
    "\n",
    "# the croped map is saved next to the input maps(folder 'data'). you can change the path for saving the croped map in any location you would like. \n",
    "gdal.Translate('data/output_crop_map.tif', file_name, projWin = window)"
   ]
  },
  {
   "cell_type": "code",
   "execution_count": null,
   "metadata": {},
   "outputs": [],
   "source": [
    "plt.figure(1)\n",
    "plt.imshow(Image.open(os.path.join('data','output_crop_map.tif')))\n",
    "plt.title('output_crop_map.tif')"
   ]
  }
 ],
 "metadata": {
  "interpreter": {
   "hash": "c2d7bee962c426c3c6750f92ceede5e5b22dc44709892f40c3ef51ae5829ae34"
  },
  "kernelspec": {
   "display_name": "Python 3.9.12 ('MyEnvironment')",
   "language": "python",
   "name": "python3"
  },
  "language_info": {
   "codemirror_mode": {
    "name": "ipython",
    "version": 3
   },
   "file_extension": ".py",
   "mimetype": "text/x-python",
   "name": "python",
   "nbconvert_exporter": "python",
   "pygments_lexer": "ipython3",
   "version": "3.9.12"
  },
  "orig_nbformat": 4
 },
 "nbformat": 4,
 "nbformat_minor": 2
}
